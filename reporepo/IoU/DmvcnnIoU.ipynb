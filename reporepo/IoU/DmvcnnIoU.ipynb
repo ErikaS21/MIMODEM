{
 "cells": [
  {
   "cell_type": "code",
   "execution_count": 1,
   "metadata": {
    "id": "5VAJvx15jtSs"
   },
   "outputs": [],
   "source": [
    "import cv2\n",
    "import matplotlib.pyplot as plt\n",
    "import numpy as np\n",
    "from scipy import misc\n",
    "import imageio\n",
    "import os\n",
    "import pandas as pd\n",
    "import mahotas as mh"
   ]
  },
  {
   "cell_type": "code",
   "execution_count": 2,
   "metadata": {
    "id": "NceD0iW_nMvy"
   },
   "outputs": [],
   "source": [
    "# folder path\n",
    "dir_path = r'BestSegmentations/'\n",
    "# list to store files\n",
    "res = [] # files name\n",
    "# Iterate directory\n",
    "for path in os.listdir(dir_path):\n",
    "    # check if current path is a file\n",
    "    if os.path.isfile(os.path.join(dir_path, path)):\n",
    "        res.append(path)"
   ]
  },
  {
   "cell_type": "code",
   "execution_count": 11,
   "metadata": {
    "id": "hJiPTd9evoHC"
   },
   "outputs": [],
   "source": [
    "dmv_iou_otsu = pd.DataFrame(columns=['image_index', 'threshold_otsu', 'IoU'], index=range(370))\n",
    "for i in range(0, 370, 1):\n",
    "  segm1 = imageio.imread(('BestSegmentations/' + res[i]))\n",
    "  res1 = str(res[i])\n",
    "  dmv_otsu = cv2.imread(('GrayHeatmapsDmvcnn/' + res1.split(\".\")[0] + '_CAM3.png'), cv2.IMREAD_UNCHANGED)\n",
    "  assert np.shape(segm1) == np.shape(dmv_otsu)\n",
    "  otsu_threshold, image_otsu = cv2.threshold(dmv_otsu, 0, 255, cv2.THRESH_BINARY + cv2.THRESH_OTSU) \n",
    "  intersection = np.logical_and(image_otsu, segm1)\n",
    "  union = np.logical_or(image_otsu, segm1)\n",
    "  iou = np.sum(intersection) / np.sum(union)\n",
    "  dmv_iou_otsu.loc[i] = (res1.split(\".\")[0], otsu_threshold, iou)\n",
    "  # Save image with contours--------------------------------------------------------------------------------------------\n",
    "  #orig = cv2.imread(('original/' + res1.split(\".\")[0] + '.png'),0)\n",
    "  #contours_seg, hierarchy = cv2.findContours(segm1, cv2.RETR_TREE, cv2.CHAIN_APPROX_SIMPLE)\n",
    "  #contours_otsu, hierarchy1 = cv2.findContours(image_otsu, cv2.RETR_TREE, cv2.CHAIN_APPROX_SIMPLE)\n",
    "  #cv2.drawContours(orig, contours_seg, -1, (0,255,0), 6)\n",
    "  #cv2.drawContours(orig, contours_otsu, -1, (255,255,0), 6)\n",
    "  #cv2.imwrite(('ImageOtsu/Dmvcnn/' + res1.split(\".\")[0] + '_CAM3OT.png'), orig)"
   ]
  },
  {
   "cell_type": "code",
   "execution_count": 13,
   "metadata": {
    "colab": {
     "base_uri": "https://localhost:8080/",
     "height": 424
    },
    "id": "8cGexEiUoDex",
    "outputId": "7adf7db4-2a19-4a98-f96e-f0ecafd38252"
   },
   "outputs": [
    {
     "data": {
      "text/html": [
       "<div>\n",
       "<style scoped>\n",
       "    .dataframe tbody tr th:only-of-type {\n",
       "        vertical-align: middle;\n",
       "    }\n",
       "\n",
       "    .dataframe tbody tr th {\n",
       "        vertical-align: top;\n",
       "    }\n",
       "\n",
       "    .dataframe thead th {\n",
       "        text-align: right;\n",
       "    }\n",
       "</style>\n",
       "<table border=\"1\" class=\"dataframe\">\n",
       "  <thead>\n",
       "    <tr style=\"text-align: right;\">\n",
       "      <th></th>\n",
       "      <th>image_index</th>\n",
       "      <th>threshold_otsu</th>\n",
       "      <th>IoU</th>\n",
       "    </tr>\n",
       "  </thead>\n",
       "  <tbody>\n",
       "    <tr>\n",
       "      <th>0</th>\n",
       "      <td>123ca_187_L_CC</td>\n",
       "      <td>29</td>\n",
       "      <td>0.145201</td>\n",
       "    </tr>\n",
       "    <tr>\n",
       "      <th>1</th>\n",
       "      <td>173ca_256_R_MLO</td>\n",
       "      <td>40</td>\n",
       "      <td>0.0147354</td>\n",
       "    </tr>\n",
       "    <tr>\n",
       "      <th>2</th>\n",
       "      <td>168ca_248_L_MLO</td>\n",
       "      <td>35</td>\n",
       "      <td>0.00750082</td>\n",
       "    </tr>\n",
       "    <tr>\n",
       "      <th>3</th>\n",
       "      <td>137ca_208_R_CC</td>\n",
       "      <td>48</td>\n",
       "      <td>0.000972933</td>\n",
       "    </tr>\n",
       "    <tr>\n",
       "      <th>4</th>\n",
       "      <td>133ca_203_L_MLO</td>\n",
       "      <td>53</td>\n",
       "      <td>0.0107</td>\n",
       "    </tr>\n",
       "    <tr>\n",
       "      <th>...</th>\n",
       "      <td>...</td>\n",
       "      <td>...</td>\n",
       "      <td>...</td>\n",
       "    </tr>\n",
       "    <tr>\n",
       "      <th>365</th>\n",
       "      <td>14ca_19_R_MLO</td>\n",
       "      <td>38</td>\n",
       "      <td>0.0359078</td>\n",
       "    </tr>\n",
       "    <tr>\n",
       "      <th>366</th>\n",
       "      <td>140ca_211_L_MLO</td>\n",
       "      <td>29</td>\n",
       "      <td>0.0934856</td>\n",
       "    </tr>\n",
       "    <tr>\n",
       "      <th>367</th>\n",
       "      <td>23ca_38_L_CC</td>\n",
       "      <td>32</td>\n",
       "      <td>0.0186259</td>\n",
       "    </tr>\n",
       "    <tr>\n",
       "      <th>368</th>\n",
       "      <td>13ca_18_R_CC</td>\n",
       "      <td>54</td>\n",
       "      <td>0</td>\n",
       "    </tr>\n",
       "    <tr>\n",
       "      <th>369</th>\n",
       "      <td>174ca_258_R_CC</td>\n",
       "      <td>42</td>\n",
       "      <td>0.0259522</td>\n",
       "    </tr>\n",
       "  </tbody>\n",
       "</table>\n",
       "<p>370 rows × 3 columns</p>\n",
       "</div>"
      ],
      "text/plain": [
       "         image_index threshold_otsu          IoU\n",
       "0     123ca_187_L_CC             29     0.145201\n",
       "1    173ca_256_R_MLO             40    0.0147354\n",
       "2    168ca_248_L_MLO             35   0.00750082\n",
       "3     137ca_208_R_CC             48  0.000972933\n",
       "4    133ca_203_L_MLO             53       0.0107\n",
       "..               ...            ...          ...\n",
       "365    14ca_19_R_MLO             38    0.0359078\n",
       "366  140ca_211_L_MLO             29    0.0934856\n",
       "367     23ca_38_L_CC             32    0.0186259\n",
       "368     13ca_18_R_CC             54            0\n",
       "369   174ca_258_R_CC             42    0.0259522\n",
       "\n",
       "[370 rows x 3 columns]"
      ]
     },
     "execution_count": 13,
     "metadata": {},
     "output_type": "execute_result"
    }
   ],
   "source": [
    "dmv_iou_otsu"
   ]
  },
  {
   "cell_type": "code",
   "execution_count": 14,
   "metadata": {
    "colab": {
     "base_uri": "https://localhost:8080/"
    },
    "id": "RAPqqGSPl3pk",
    "outputId": "2bcee0a9-6561-4e6f-95a5-87224876f21a"
   },
   "outputs": [
    {
     "data": {
      "text/plain": [
       "0.03238392101528104"
      ]
     },
     "execution_count": 14,
     "metadata": {},
     "output_type": "execute_result"
    }
   ],
   "source": [
    "np.sum(dmv_iou_otsu['IoU'])/370"
   ]
  },
  {
   "cell_type": "code",
   "execution_count": 15,
   "metadata": {
    "id": "PRuRv-HswDF9"
   },
   "outputs": [],
   "source": [
    "dmv_iou = pd.DataFrame(columns=['image_index', 'threshold', 'IoU'])\n",
    "for i in range(0, 370, 1):\n",
    "  segm1 = imageio.imread(('BestSegmentations/' + res[i]))\n",
    "  res1 = str(res[i])\n",
    "  dmv = cv2.imread(('GrayHeatmapsDmvcnn/' + res1.split(\".\")[0] + '_CAM3.png'), cv2.IMREAD_UNCHANGED)\n",
    "  assert np.shape(segm1) == np.shape(dmv)\n",
    "  iou_score = []\n",
    "  for n in range(0, 255, 1):\n",
    "    th , image = cv2.threshold(dmv, n, 255, cv2.THRESH_BINARY) \n",
    "    intersection = np.logical_and(image, segm1)\n",
    "    union = np.logical_or(image, segm1)\n",
    "    iou = np.sum(intersection) / np.sum(union)\n",
    "    iou_score.append(iou)\n",
    "  threshold = iou_score.index(np.max(iou_score))\n",
    "  IoU = np.max(iou_score)\n",
    "  dmv_iou.loc[i] = (res1.split(\".\")[0], threshold, IoU)\n",
    "  # Save image with contours--------------------------------------------------------------------------------------------\n",
    "  orig = cv2.imread(('original/' + res1.split(\".\")[0] + '.png'),0)\n",
    "  th , image = cv2.threshold(dmv, threshold, 255, cv2.THRESH_BINARY)\n",
    "  contours_seg, hierarchy = cv2.findContours(segm1, cv2.RETR_TREE, cv2.CHAIN_APPROX_SIMPLE)\n",
    "  contours_sweep, hierarchy1 = cv2.findContours(image, cv2.RETR_TREE, cv2.CHAIN_APPROX_SIMPLE)\n",
    "  cv2.drawContours(orig, contours_seg, -1, (0,255,0), 6)\n",
    "  cv2.drawContours(orig, contours_sweep, -1, (255,255,0), 6)\n",
    "  cv2.imwrite(('ImageSweep/Gmic/' + res1.split(\".\")[0] + '_CAM3SW.png'), orig)"
   ]
  },
  {
   "cell_type": "code",
   "execution_count": null,
   "metadata": {
    "id": "z-lUVQcKsGkq"
   },
   "outputs": [],
   "source": [
    "dmv_iou"
   ]
  },
  {
   "cell_type": "code",
   "execution_count": null,
   "metadata": {
    "colab": {
     "base_uri": "https://localhost:8080/"
    },
    "id": "LYffpSUtmXHx",
    "outputId": "80f30573-ff8e-4274-e9fc-3a9129b9809b"
   },
   "outputs": [
    {
     "data": {
      "text/plain": [
       "0.20541965270922985"
      ]
     },
     "execution_count": 8,
     "metadata": {},
     "output_type": "execute_result"
    }
   ],
   "source": [
    "np.sum(dmv_iou['IoU'])/370"
   ]
  },
  {
   "cell_type": "code",
   "execution_count": 3,
   "metadata": {},
   "outputs": [],
   "source": [
    "dmv_iou_otsu_ = pd.DataFrame(columns=['image_index', 'threshold_otsu', 'IoU'])\n",
    "dmv_iou_no_ = pd.DataFrame(columns=['image_index', 'threshold_otsu'])\n",
    "otsu_ = 0\n",
    "no_ = 0\n",
    "for i in range(0, 370, 1):\n",
    "    segm1 = imageio.imread(('BestSegmentations/' + res[i]))\n",
    "    res1 = str(res[i])\n",
    "    orig = cv2.imread(('original/' + res1.split(\".\")[0] + '.png'))\n",
    "    dmv_otsu = cv2.imread(('GrayHeatmapsDmvcnn/' + res1.split(\".\")[0] + '_CAM3.png'), cv2.IMREAD_UNCHANGED)\n",
    "    assert np.shape(segm1) == np.shape(dmv_otsu)\n",
    "    otsu_threshold, image_otsu = cv2.threshold(dmv_otsu, 0, 255, cv2.THRESH_BINARY + cv2.THRESH_OTSU)\n",
    "    inter_out = np.sum(np.logical_and(image_otsu, segm1))\n",
    "    if inter_out != 0: \n",
    "        labelled, nr_objects = mh.label(image_otsu)\n",
    "        new_image = np.zeros(np.shape(image_otsu))\n",
    "        for i in range(1, nr_objects + 1, 1):\n",
    "            mask = (labelled == i)\n",
    "            inter = np.sum(np.logical_and(mask, segm1))\n",
    "            if inter != 0:\n",
    "                new_image = np.logical_or(new_image, mask)\n",
    "        new_image = np.uint8(255*new_image)\n",
    "        new_image = imageio.core.util.Array(new_image)\n",
    "        intersection = np.logical_and(new_image, segm1)\n",
    "        union = np.logical_or(new_image, segm1)\n",
    "        iou = np.sum(intersection) / np.sum(union)\n",
    "        dmv_iou_otsu_.loc[otsu_] = (res1.split(\".\")[0], otsu_threshold, iou)\n",
    "        otsu_ += 1\n",
    "        contours, hierarchy = cv2.findContours(segm1, cv2.RETR_TREE, cv2.CHAIN_APPROX_SIMPLE)\n",
    "        contours1, hierarchy1 = cv2.findContours(new_image, cv2.RETR_TREE, cv2.CHAIN_APPROX_SIMPLE)\n",
    "        cv2.drawContours(orig, contours, -1, (255,255,0), 10)\n",
    "        cv2.drawContours(orig, contours1, -1, (0,255,0), 10)\n",
    "        cv2.imwrite(('ImageOtsu/Dmvcnn/' + res1.split(\".\")[0] + '_CAM3OT.png'), orig)\n",
    "    else:\n",
    "        dmv_iou_no_.loc[no_] = (res1.split(\".\")[0], otsu_threshold)\n",
    "        no_ += 1"
   ]
  },
  {
   "cell_type": "code",
   "execution_count": 4,
   "metadata": {},
   "outputs": [
    {
     "data": {
      "text/html": [
       "<div>\n",
       "<style scoped>\n",
       "    .dataframe tbody tr th:only-of-type {\n",
       "        vertical-align: middle;\n",
       "    }\n",
       "\n",
       "    .dataframe tbody tr th {\n",
       "        vertical-align: top;\n",
       "    }\n",
       "\n",
       "    .dataframe thead th {\n",
       "        text-align: right;\n",
       "    }\n",
       "</style>\n",
       "<table border=\"1\" class=\"dataframe\">\n",
       "  <thead>\n",
       "    <tr style=\"text-align: right;\">\n",
       "      <th></th>\n",
       "      <th>image_index</th>\n",
       "      <th>threshold_otsu</th>\n",
       "      <th>IoU</th>\n",
       "    </tr>\n",
       "  </thead>\n",
       "  <tbody>\n",
       "    <tr>\n",
       "      <th>0</th>\n",
       "      <td>123ca_187_L_CC</td>\n",
       "      <td>29.0</td>\n",
       "      <td>0.179569</td>\n",
       "    </tr>\n",
       "    <tr>\n",
       "      <th>1</th>\n",
       "      <td>173ca_256_R_MLO</td>\n",
       "      <td>40.0</td>\n",
       "      <td>0.014735</td>\n",
       "    </tr>\n",
       "    <tr>\n",
       "      <th>2</th>\n",
       "      <td>168ca_248_L_MLO</td>\n",
       "      <td>35.0</td>\n",
       "      <td>0.007501</td>\n",
       "    </tr>\n",
       "    <tr>\n",
       "      <th>3</th>\n",
       "      <td>137ca_208_R_CC</td>\n",
       "      <td>48.0</td>\n",
       "      <td>0.000973</td>\n",
       "    </tr>\n",
       "    <tr>\n",
       "      <th>4</th>\n",
       "      <td>133ca_203_L_MLO</td>\n",
       "      <td>53.0</td>\n",
       "      <td>0.010700</td>\n",
       "    </tr>\n",
       "    <tr>\n",
       "      <th>...</th>\n",
       "      <td>...</td>\n",
       "      <td>...</td>\n",
       "      <td>...</td>\n",
       "    </tr>\n",
       "    <tr>\n",
       "      <th>292</th>\n",
       "      <td>154ca_228_L_CC</td>\n",
       "      <td>42.0</td>\n",
       "      <td>0.057806</td>\n",
       "    </tr>\n",
       "    <tr>\n",
       "      <th>293</th>\n",
       "      <td>14ca_19_R_MLO</td>\n",
       "      <td>38.0</td>\n",
       "      <td>0.036448</td>\n",
       "    </tr>\n",
       "    <tr>\n",
       "      <th>294</th>\n",
       "      <td>140ca_211_L_MLO</td>\n",
       "      <td>29.0</td>\n",
       "      <td>0.093486</td>\n",
       "    </tr>\n",
       "    <tr>\n",
       "      <th>295</th>\n",
       "      <td>23ca_38_L_CC</td>\n",
       "      <td>32.0</td>\n",
       "      <td>0.018678</td>\n",
       "    </tr>\n",
       "    <tr>\n",
       "      <th>296</th>\n",
       "      <td>174ca_258_R_CC</td>\n",
       "      <td>42.0</td>\n",
       "      <td>0.025997</td>\n",
       "    </tr>\n",
       "  </tbody>\n",
       "</table>\n",
       "<p>297 rows × 3 columns</p>\n",
       "</div>"
      ],
      "text/plain": [
       "         image_index  threshold_otsu       IoU\n",
       "0     123ca_187_L_CC            29.0  0.179569\n",
       "1    173ca_256_R_MLO            40.0  0.014735\n",
       "2    168ca_248_L_MLO            35.0  0.007501\n",
       "3     137ca_208_R_CC            48.0  0.000973\n",
       "4    133ca_203_L_MLO            53.0  0.010700\n",
       "..               ...             ...       ...\n",
       "292   154ca_228_L_CC            42.0  0.057806\n",
       "293    14ca_19_R_MLO            38.0  0.036448\n",
       "294  140ca_211_L_MLO            29.0  0.093486\n",
       "295     23ca_38_L_CC            32.0  0.018678\n",
       "296   174ca_258_R_CC            42.0  0.025997\n",
       "\n",
       "[297 rows x 3 columns]"
      ]
     },
     "execution_count": 4,
     "metadata": {},
     "output_type": "execute_result"
    }
   ],
   "source": [
    "dmv_iou_otsu_"
   ]
  },
  {
   "cell_type": "code",
   "execution_count": 1,
   "metadata": {},
   "outputs": [
    {
     "ename": "NameError",
     "evalue": "name 'np' is not defined",
     "output_type": "error",
     "traceback": [
      "\u001b[0;31m---------------------------------------------------------------------------\u001b[0m",
      "\u001b[0;31mNameError\u001b[0m                                 Traceback (most recent call last)",
      "\u001b[0;32m<ipython-input-1-d66f05fac04b>\u001b[0m in \u001b[0;36m<module>\u001b[0;34m\u001b[0m\n\u001b[0;32m----> 1\u001b[0;31m \u001b[0mprint\u001b[0m\u001b[0;34m(\u001b[0m\u001b[0;34m'IoU Dmvcnn Otsu = '\u001b[0m\u001b[0;34m,\u001b[0m \u001b[0mnp\u001b[0m\u001b[0;34m.\u001b[0m\u001b[0msum\u001b[0m\u001b[0;34m(\u001b[0m\u001b[0mdmv_iou_otsu_\u001b[0m\u001b[0;34m[\u001b[0m\u001b[0;34m'IoU'\u001b[0m\u001b[0;34m]\u001b[0m\u001b[0;34m)\u001b[0m\u001b[0;34m/\u001b[0m\u001b[0motsu_\u001b[0m\u001b[0;34m)\u001b[0m\u001b[0;34m\u001b[0m\u001b[0;34m\u001b[0m\u001b[0m\n\u001b[0m\u001b[1;32m      2\u001b[0m \u001b[0mprint\u001b[0m\u001b[0;34m(\u001b[0m\u001b[0motsu_\u001b[0m\u001b[0;34m)\u001b[0m\u001b[0;34m\u001b[0m\u001b[0;34m\u001b[0m\u001b[0m\n",
      "\u001b[0;31mNameError\u001b[0m: name 'np' is not defined"
     ]
    }
   ],
   "source": [
    "print('IoU Dmvcnn Otsu = ', np.sum(dmv_iou_otsu_['IoU'])/otsu_)\n",
    "print(otsu_)"
   ]
  },
  {
   "cell_type": "code",
   "execution_count": 6,
   "metadata": {},
   "outputs": [],
   "source": [
    "dmv_iou_sw_ = pd.DataFrame(columns=['image_index', 'threshold', 'IoU'])\n",
    "dmv_iou_n_ = pd.DataFrame(columns=['image_index', 'threshold_otsu'])\n",
    "sw_ = 0\n",
    "n_ = 0\n",
    "\n",
    "for i in range(0, 370, 1):\n",
    "    segm1 = imageio.imread(('BestSegmentations/' + res[i]))\n",
    "    res1 = str(res[i])\n",
    "    orig = cv2.imread(('original/' + res1.split(\".\")[0] + '.png'))\n",
    "    dmv_sw = cv2.imread(('GrayHeatmapsDmvcnn/' + res1.split(\".\")[0] + '_CAM3.png'), cv2.IMREAD_UNCHANGED)\n",
    "    assert np.shape(segm1) == np.shape(dmv_sw)\n",
    "    iou_score = []\n",
    "    for n in range(0, 255, 1):\n",
    "        th , image = cv2.threshold(dmv_sw, n, 255, cv2.THRESH_BINARY)      \n",
    "        intersection = np.logical_and(image, segm1)\n",
    "        union = np.logical_or(image, segm1)\n",
    "        iou = np.sum(intersection) / np.sum(union)\n",
    "        iou_score.append(iou)\n",
    "    threshold = iou_score.index(np.max(iou_score))\n",
    "    IoU = np.max(iou_score)\n",
    "    th , image_sw = cv2.threshold(dmv_sw, threshold, 255, cv2.THRESH_BINARY) \n",
    "    inter_out = np.sum(np.logical_and(image_sw, segm1))\n",
    "    if inter_out != 0: \n",
    "        labelled, nr_objects = mh.label(image_sw)\n",
    "        new_image = np.zeros(np.shape(image_sw))\n",
    "        for i in range(1, nr_objects + 1, 1):\n",
    "            mask = (labelled == i)\n",
    "            inter = np.sum(np.logical_and(mask, segm1))\n",
    "            if inter != 0:\n",
    "                new_image = np.logical_or(new_image, mask)\n",
    "        new_image = np.uint8(255*new_image)\n",
    "        new_image = imageio.core.util.Array(new_image)\n",
    "        intersection = np.logical_and(new_image, segm1)\n",
    "        union = np.logical_or(new_image, segm1)\n",
    "        iou = np.sum(intersection) / np.sum(union)\n",
    "        dmv_iou_sw_.loc[sw_] = (res1.split(\".\")[0], th, iou)\n",
    "        sw_ += 1\n",
    "        contours, hierarchy = cv2.findContours(segm1, cv2.RETR_TREE, cv2.CHAIN_APPROX_SIMPLE)\n",
    "        contours1, hierarchy1 = cv2.findContours(new_image, cv2.RETR_TREE, cv2.CHAIN_APPROX_SIMPLE)\n",
    "        cv2.drawContours(orig, contours, -1, (255,255,0), 10)\n",
    "        cv2.drawContours(orig, contours1, -1, (0,255,0), 10)\n",
    "        cv2.imwrite(('ImageSweep/Dmvcnn/' + res1.split(\".\")[0] + '_CAM3SW.png'), orig)\n",
    "    else:\n",
    "        dmv_iou_n_.loc[n_] = (res1.split(\".\")[0], otsu_threshold)\n",
    "        n_ += 1"
   ]
  },
  {
   "cell_type": "code",
   "execution_count": 7,
   "metadata": {},
   "outputs": [
    {
     "data": {
      "text/html": [
       "<div>\n",
       "<style scoped>\n",
       "    .dataframe tbody tr th:only-of-type {\n",
       "        vertical-align: middle;\n",
       "    }\n",
       "\n",
       "    .dataframe tbody tr th {\n",
       "        vertical-align: top;\n",
       "    }\n",
       "\n",
       "    .dataframe thead th {\n",
       "        text-align: right;\n",
       "    }\n",
       "</style>\n",
       "<table border=\"1\" class=\"dataframe\">\n",
       "  <thead>\n",
       "    <tr style=\"text-align: right;\">\n",
       "      <th></th>\n",
       "      <th>image_index</th>\n",
       "      <th>threshold</th>\n",
       "      <th>IoU</th>\n",
       "    </tr>\n",
       "  </thead>\n",
       "  <tbody>\n",
       "    <tr>\n",
       "      <th>0</th>\n",
       "      <td>123ca_187_L_CC</td>\n",
       "      <td>75.0</td>\n",
       "      <td>0.478915</td>\n",
       "    </tr>\n",
       "    <tr>\n",
       "      <th>1</th>\n",
       "      <td>173ca_256_R_MLO</td>\n",
       "      <td>135.0</td>\n",
       "      <td>0.678175</td>\n",
       "    </tr>\n",
       "    <tr>\n",
       "      <th>2</th>\n",
       "      <td>168ca_248_L_MLO</td>\n",
       "      <td>78.0</td>\n",
       "      <td>0.360143</td>\n",
       "    </tr>\n",
       "    <tr>\n",
       "      <th>3</th>\n",
       "      <td>137ca_208_R_CC</td>\n",
       "      <td>141.0</td>\n",
       "      <td>0.013900</td>\n",
       "    </tr>\n",
       "    <tr>\n",
       "      <th>4</th>\n",
       "      <td>133ca_203_L_MLO</td>\n",
       "      <td>107.0</td>\n",
       "      <td>0.015081</td>\n",
       "    </tr>\n",
       "    <tr>\n",
       "      <th>...</th>\n",
       "      <td>...</td>\n",
       "      <td>...</td>\n",
       "      <td>...</td>\n",
       "    </tr>\n",
       "    <tr>\n",
       "      <th>292</th>\n",
       "      <td>154ca_228_L_CC</td>\n",
       "      <td>114.0</td>\n",
       "      <td>0.510029</td>\n",
       "    </tr>\n",
       "    <tr>\n",
       "      <th>293</th>\n",
       "      <td>14ca_19_R_MLO</td>\n",
       "      <td>75.0</td>\n",
       "      <td>0.625961</td>\n",
       "    </tr>\n",
       "    <tr>\n",
       "      <th>294</th>\n",
       "      <td>140ca_211_L_MLO</td>\n",
       "      <td>71.0</td>\n",
       "      <td>0.330627</td>\n",
       "    </tr>\n",
       "    <tr>\n",
       "      <th>295</th>\n",
       "      <td>23ca_38_L_CC</td>\n",
       "      <td>98.0</td>\n",
       "      <td>0.427916</td>\n",
       "    </tr>\n",
       "    <tr>\n",
       "      <th>296</th>\n",
       "      <td>174ca_258_R_CC</td>\n",
       "      <td>130.0</td>\n",
       "      <td>0.800256</td>\n",
       "    </tr>\n",
       "  </tbody>\n",
       "</table>\n",
       "<p>297 rows × 3 columns</p>\n",
       "</div>"
      ],
      "text/plain": [
       "         image_index  threshold       IoU\n",
       "0     123ca_187_L_CC       75.0  0.478915\n",
       "1    173ca_256_R_MLO      135.0  0.678175\n",
       "2    168ca_248_L_MLO       78.0  0.360143\n",
       "3     137ca_208_R_CC      141.0  0.013900\n",
       "4    133ca_203_L_MLO      107.0  0.015081\n",
       "..               ...        ...       ...\n",
       "292   154ca_228_L_CC      114.0  0.510029\n",
       "293    14ca_19_R_MLO       75.0  0.625961\n",
       "294  140ca_211_L_MLO       71.0  0.330627\n",
       "295     23ca_38_L_CC       98.0  0.427916\n",
       "296   174ca_258_R_CC      130.0  0.800256\n",
       "\n",
       "[297 rows x 3 columns]"
      ]
     },
     "execution_count": 7,
     "metadata": {},
     "output_type": "execute_result"
    }
   ],
   "source": [
    "dmv_iou_sw_"
   ]
  },
  {
   "cell_type": "code",
   "execution_count": 8,
   "metadata": {},
   "outputs": [
    {
     "name": "stdout",
     "output_type": "stream",
     "text": [
      "IoU Dmvcnn Sweep =  0.3335187300241108\n"
     ]
    }
   ],
   "source": [
    "print('IoU Dmvcnn Sweep = ', np.sum(dmv_iou_sw_['IoU'])/sw_)"
   ]
  },
  {
   "cell_type": "code",
   "execution_count": null,
   "metadata": {},
   "outputs": [],
   "source": []
  }
 ],
 "metadata": {
  "colab": {
   "provenance": []
  },
  "gpuClass": "standard",
  "kernelspec": {
   "display_name": "reporepo",
   "language": "python",
   "name": "reporepo"
  },
  "language_info": {
   "codemirror_mode": {
    "name": "ipython",
    "version": 3
   },
   "file_extension": ".py",
   "mimetype": "text/x-python",
   "name": "python",
   "nbconvert_exporter": "python",
   "pygments_lexer": "ipython3",
   "version": "3.6.13"
  }
 },
 "nbformat": 4,
 "nbformat_minor": 1
}
