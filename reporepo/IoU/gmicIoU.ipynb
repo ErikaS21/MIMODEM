{
 "cells": [
  {
   "cell_type": "code",
   "execution_count": 5,
   "metadata": {
    "id": "5VAJvx15jtSs"
   },
   "outputs": [],
   "source": [
    "import cv2\n",
    "import matplotlib.pyplot as plt\n",
    "import numpy as np\n",
    "from scipy import misc\n",
    "import imageio\n",
    "import os\n",
    "import pandas as pd\n",
    "import mahotas as mh"
   ]
  },
  {
   "cell_type": "code",
   "execution_count": 6,
   "metadata": {
    "id": "NceD0iW_nMvy"
   },
   "outputs": [],
   "source": [
    "# folder path\n",
    "dir_path = r'BestSegmentations/'\n",
    "# list to store files\n",
    "res = [] # files name\n",
    "# Iterate directory\n",
    "for path in os.listdir(dir_path):\n",
    "    # check if current path is a file\n",
    "    if os.path.isfile(os.path.join(dir_path, path)):\n",
    "        res.append(path)"
   ]
  },
  {
   "cell_type": "code",
   "execution_count": 4,
   "metadata": {
    "id": "hJiPTd9evoHC"
   },
   "outputs": [],
   "source": [
    "gmic_iou_otsu = pd.DataFrame(columns=['image_index', 'threshold_otsu', 'IoU'], index=range(370))\n",
    "for i in range(0, 370, 1):\n",
    "  segm1 = imageio.imread(('BestSegmentations/' + res[i]))\n",
    "  res1 = str(res[i])\n",
    "  gmic_otsu = cv2.imread(('GrayHeatmapsGmic/' + res1.split(\".\")[0] + '_CAM1.png'), cv2.IMREAD_UNCHANGED)\n",
    "  assert np.shape(segm1) == np.shape(gmic_otsu)\n",
    "  otsu_threshold, image_otsu = cv2.threshold(gmic_otsu, 0, 255, cv2.THRESH_BINARY + cv2.THRESH_OTSU) \n",
    "  intersection = np.logical_and(image_otsu, segm1)\n",
    "  union = np.logical_or(image_otsu, segm1)\n",
    "  iou = np.sum(intersection) / np.sum(union)\n",
    "  gmic_iou_otsu.loc[i] = (res1.split(\".\")[0], otsu_threshold, iou)\n",
    "  # Save image with contours--------------------------------------------------------------------------------------------\n",
    "  #orig = cv2.imread(('original/' + res1.split(\".\")[0] + '.png'),0)\n",
    "  #contours_seg, hierarchy = cv2.findContours(segm1, cv2.RETR_TREE, cv2.CHAIN_APPROX_SIMPLE)\n",
    "  #contours_otsu, hierarchy1 = cv2.findContours(image_otsu, cv2.RETR_TREE, cv2.CHAIN_APPROX_SIMPLE)\n",
    "  #cv2.drawContours(orig, contours_seg, -1, (0,255,0), 6)\n",
    "  #cv2.drawContours(orig, contours_otsu, -1, (255,255,0), 6)\n",
    "  #cv2.imwrite(('ImageOtsu/Gmic/' + res1.split(\".\")[0] + '_CAM1OT.png'), orig)"
   ]
  },
  {
   "cell_type": "code",
   "execution_count": 5,
   "metadata": {
    "colab": {
     "base_uri": "https://localhost:8080/"
    },
    "id": "X3fXftShuF_q",
    "outputId": "8b275b48-3591-466b-ffcb-5b1bfac224f2"
   },
   "outputs": [
    {
     "data": {
      "text/plain": [
       "0.07867563597374283"
      ]
     },
     "execution_count": 5,
     "metadata": {},
     "output_type": "execute_result"
    }
   ],
   "source": [
    "np.sum(gmic_iou_otsu['IoU'])/370\n",
    "# antes 0.07458446169374482"
   ]
  },
  {
   "cell_type": "code",
   "execution_count": 6,
   "metadata": {
    "colab": {
     "base_uri": "https://localhost:8080/",
     "height": 424
    },
    "id": "-CqMKenKoyWI",
    "outputId": "ad121cdf-6084-418e-e9ea-f138a4ea47a4"
   },
   "outputs": [
    {
     "data": {
      "text/html": [
       "<div>\n",
       "<style scoped>\n",
       "    .dataframe tbody tr th:only-of-type {\n",
       "        vertical-align: middle;\n",
       "    }\n",
       "\n",
       "    .dataframe tbody tr th {\n",
       "        vertical-align: top;\n",
       "    }\n",
       "\n",
       "    .dataframe thead th {\n",
       "        text-align: right;\n",
       "    }\n",
       "</style>\n",
       "<table border=\"1\" class=\"dataframe\">\n",
       "  <thead>\n",
       "    <tr style=\"text-align: right;\">\n",
       "      <th></th>\n",
       "      <th>image_index</th>\n",
       "      <th>threshold_otsu</th>\n",
       "      <th>IoU</th>\n",
       "    </tr>\n",
       "  </thead>\n",
       "  <tbody>\n",
       "    <tr>\n",
       "      <th>0</th>\n",
       "      <td>123ca_187_L_CC</td>\n",
       "      <td>21</td>\n",
       "      <td>0.0148981</td>\n",
       "    </tr>\n",
       "    <tr>\n",
       "      <th>1</th>\n",
       "      <td>173ca_256_R_MLO</td>\n",
       "      <td>25</td>\n",
       "      <td>0</td>\n",
       "    </tr>\n",
       "    <tr>\n",
       "      <th>2</th>\n",
       "      <td>168ca_248_L_MLO</td>\n",
       "      <td>5</td>\n",
       "      <td>0</td>\n",
       "    </tr>\n",
       "    <tr>\n",
       "      <th>3</th>\n",
       "      <td>137ca_208_R_CC</td>\n",
       "      <td>5</td>\n",
       "      <td>0</td>\n",
       "    </tr>\n",
       "    <tr>\n",
       "      <th>4</th>\n",
       "      <td>133ca_203_L_MLO</td>\n",
       "      <td>0</td>\n",
       "      <td>0</td>\n",
       "    </tr>\n",
       "    <tr>\n",
       "      <th>...</th>\n",
       "      <td>...</td>\n",
       "      <td>...</td>\n",
       "      <td>...</td>\n",
       "    </tr>\n",
       "    <tr>\n",
       "      <th>365</th>\n",
       "      <td>14ca_19_R_MLO</td>\n",
       "      <td>2</td>\n",
       "      <td>0.0932385</td>\n",
       "    </tr>\n",
       "    <tr>\n",
       "      <th>366</th>\n",
       "      <td>140ca_211_L_MLO</td>\n",
       "      <td>8</td>\n",
       "      <td>0.000505537</td>\n",
       "    </tr>\n",
       "    <tr>\n",
       "      <th>367</th>\n",
       "      <td>23ca_38_L_CC</td>\n",
       "      <td>4</td>\n",
       "      <td>0.0994693</td>\n",
       "    </tr>\n",
       "    <tr>\n",
       "      <th>368</th>\n",
       "      <td>13ca_18_R_CC</td>\n",
       "      <td>36</td>\n",
       "      <td>0</td>\n",
       "    </tr>\n",
       "    <tr>\n",
       "      <th>369</th>\n",
       "      <td>174ca_258_R_CC</td>\n",
       "      <td>76</td>\n",
       "      <td>0.322332</td>\n",
       "    </tr>\n",
       "  </tbody>\n",
       "</table>\n",
       "<p>370 rows × 3 columns</p>\n",
       "</div>"
      ],
      "text/plain": [
       "         image_index threshold_otsu          IoU\n",
       "0     123ca_187_L_CC             21    0.0148981\n",
       "1    173ca_256_R_MLO             25            0\n",
       "2    168ca_248_L_MLO              5            0\n",
       "3     137ca_208_R_CC              5            0\n",
       "4    133ca_203_L_MLO              0            0\n",
       "..               ...            ...          ...\n",
       "365    14ca_19_R_MLO              2    0.0932385\n",
       "366  140ca_211_L_MLO              8  0.000505537\n",
       "367     23ca_38_L_CC              4    0.0994693\n",
       "368     13ca_18_R_CC             36            0\n",
       "369   174ca_258_R_CC             76     0.322332\n",
       "\n",
       "[370 rows x 3 columns]"
      ]
     },
     "execution_count": 6,
     "metadata": {},
     "output_type": "execute_result"
    }
   ],
   "source": [
    "gmic_iou_otsu"
   ]
  },
  {
   "cell_type": "code",
   "execution_count": 7,
   "metadata": {
    "colab": {
     "base_uri": "https://localhost:8080/",
     "height": 424
    },
    "id": "PRuRv-HswDF9",
    "outputId": "e21ee862-d866-4400-e595-3dbdf5e4f33d"
   },
   "outputs": [],
   "source": [
    "gmic_iou = pd.DataFrame(columns=['image_index', 'threshold', 'IoU'])\n",
    "for i in range(0, 370, 1):\n",
    "  segm1 = imageio.imread(('BestSegmentations/' + res[i]))\n",
    "  res1 = str(res[i])\n",
    "  gmic = cv2.imread(('GrayHeatmapsGmic/' + res1.split(\".\")[0] + '_CAM1.png'), cv2.IMREAD_UNCHANGED)\n",
    "  assert np.shape(segm1) == np.shape(gmic)\n",
    "  iou_score = []\n",
    "  for n in range(0, 255, 1):\n",
    "    th , image = cv2.threshold(gmic, n, 255, cv2.THRESH_BINARY) \n",
    "    intersection = np.logical_and(image, segm1)\n",
    "    union = np.logical_or(image, segm1)\n",
    "    iou = np.sum(intersection) / np.sum(union)\n",
    "    iou_score.append(iou)\n",
    "  threshold = iou_score.index(np.max(iou_score))\n",
    "  IoU = np.max(iou_score)\n",
    "  gmic_iou.loc[i] = (res1.split(\".\")[0], threshold, IoU)\n",
    "  # Save image with contours--------------------------------------------------------------------------------------------\n",
    "  #orig = cv2.imread(('original/' + res1.split(\".\")[0] + '.png'),0)\n",
    "  #th , image = cv2.threshold(gmic, threshold, 255, cv2.THRESH_BINARY)\n",
    "  #contours_seg, hierarchy = cv2.findContours(segm1, cv2.RETR_TREE, cv2.CHAIN_APPROX_SIMPLE)\n",
    "  #contours_sweep, hierarchy1 = cv2.findContours(image, cv2.RETR_TREE, cv2.CHAIN_APPROX_SIMPLE)\n",
    "  #cv2.drawContours(orig, contours_seg, -1, (0,255,0), 6)\n",
    "  #cv2.drawContours(orig, contours_sweep, -1, (255,255,0), 6)\n",
    "  #cv2.imwrite(('ImageSweep/Gmic/' + res1.split(\".\")[0] + '_CAM1SW.png'), orig)"
   ]
  },
  {
   "cell_type": "code",
   "execution_count": 8,
   "metadata": {
    "colab": {
     "base_uri": "https://localhost:8080/"
    },
    "id": "LYffpSUtmXHx",
    "outputId": "e41acc90-d1d0-4355-e77d-137d20d06eea"
   },
   "outputs": [
    {
     "data": {
      "text/plain": [
       "0.11023776020675827"
      ]
     },
     "execution_count": 8,
     "metadata": {},
     "output_type": "execute_result"
    }
   ],
   "source": [
    "np.sum(gmic_iou['IoU'])/370"
   ]
  },
  {
   "cell_type": "code",
   "execution_count": 4,
   "metadata": {},
   "outputs": [],
   "source": [
    "gmic_iou_otsu_ = pd.DataFrame(columns=['image_index', 'threshold_otsu', 'IoU'])\n",
    "gmic_iou_no_ = pd.DataFrame(columns=['image_index', 'threshold_otsu'])\n",
    "otsu_ = 0\n",
    "no_ = 0\n",
    "for i in range(0, 370, 1):\n",
    "    segm1 = imageio.imread(('BestSegmentations/' + res[i]))\n",
    "    res1 = str(res[i])\n",
    "    orig = cv2.imread(('original/' + res1.split(\".\")[0] + '.png'))\n",
    "    gmic_otsu = cv2.imread(('GrayHeatmapsGmic/' + res1.split(\".\")[0] + '_CAM1.png'), cv2.IMREAD_UNCHANGED)\n",
    "    assert np.shape(segm1) == np.shape(gmic_otsu)\n",
    "    otsu_threshold, image_otsu = cv2.threshold(gmic_otsu, 0, 255, cv2.THRESH_BINARY + cv2.THRESH_OTSU)\n",
    "    inter_out = np.sum(np.logical_and(image_otsu, segm1))\n",
    "    if inter_out != 0: \n",
    "        labelled, nr_objects = mh.label(image_otsu)\n",
    "        new_image = np.zeros(np.shape(image_otsu))\n",
    "        for i in range(1, nr_objects + 1, 1):\n",
    "            mask = (labelled == i)\n",
    "            inter = np.sum(np.logical_and(mask, segm1))\n",
    "            if inter != 0:\n",
    "                new_image = np.logical_or(new_image, mask)\n",
    "        new_image = np.uint8(255*new_image)\n",
    "        new_image = imageio.core.util.Array(new_image)\n",
    "        intersection = np.logical_and(new_image, segm1)\n",
    "        union = np.logical_or(new_image, segm1)\n",
    "        iou = np.sum(intersection) / np.sum(union)\n",
    "        gmic_iou_otsu_.loc[otsu_] = (res1.split(\".\")[0], otsu_threshold, iou)\n",
    "        otsu_ += 1\n",
    "        contours, hierarchy = cv2.findContours(segm1, cv2.RETR_TREE, cv2.CHAIN_APPROX_SIMPLE)\n",
    "        contours1, hierarchy1 = cv2.findContours(new_image, cv2.RETR_TREE, cv2.CHAIN_APPROX_SIMPLE)\n",
    "        cv2.drawContours(orig, contours, -1, (255,255,0), 10)\n",
    "        cv2.drawContours(orig, contours1, -1, (0,255,0), 10)\n",
    "        cv2.imwrite(('ImageOtsu/Gmic/' + res1.split(\".\")[0] + '_CAM1OT.png'), orig)\n",
    "    else:\n",
    "        gmic_iou_no_.loc[no_] = (res1.split(\".\")[0], otsu_threshold)\n",
    "        no_ += 1"
   ]
  },
  {
   "cell_type": "code",
   "execution_count": 5,
   "metadata": {},
   "outputs": [
    {
     "data": {
      "text/html": [
       "<div>\n",
       "<style scoped>\n",
       "    .dataframe tbody tr th:only-of-type {\n",
       "        vertical-align: middle;\n",
       "    }\n",
       "\n",
       "    .dataframe tbody tr th {\n",
       "        vertical-align: top;\n",
       "    }\n",
       "\n",
       "    .dataframe thead th {\n",
       "        text-align: right;\n",
       "    }\n",
       "</style>\n",
       "<table border=\"1\" class=\"dataframe\">\n",
       "  <thead>\n",
       "    <tr style=\"text-align: right;\">\n",
       "      <th></th>\n",
       "      <th>image_index</th>\n",
       "      <th>threshold_otsu</th>\n",
       "      <th>IoU</th>\n",
       "    </tr>\n",
       "  </thead>\n",
       "  <tbody>\n",
       "    <tr>\n",
       "      <th>0</th>\n",
       "      <td>123ca_187_L_CC</td>\n",
       "      <td>21.0</td>\n",
       "      <td>0.016281</td>\n",
       "    </tr>\n",
       "    <tr>\n",
       "      <th>1</th>\n",
       "      <td>151ca_225_L_MLO</td>\n",
       "      <td>33.0</td>\n",
       "      <td>0.266914</td>\n",
       "    </tr>\n",
       "    <tr>\n",
       "      <th>2</th>\n",
       "      <td>179ca_264_L_MLO</td>\n",
       "      <td>3.0</td>\n",
       "      <td>0.099130</td>\n",
       "    </tr>\n",
       "    <tr>\n",
       "      <th>3</th>\n",
       "      <td>28ca_45_R_CC</td>\n",
       "      <td>35.0</td>\n",
       "      <td>0.117304</td>\n",
       "    </tr>\n",
       "    <tr>\n",
       "      <th>4</th>\n",
       "      <td>162ca_241_L_MLO</td>\n",
       "      <td>2.0</td>\n",
       "      <td>0.012871</td>\n",
       "    </tr>\n",
       "    <tr>\n",
       "      <th>...</th>\n",
       "      <td>...</td>\n",
       "      <td>...</td>\n",
       "      <td>...</td>\n",
       "    </tr>\n",
       "    <tr>\n",
       "      <th>225</th>\n",
       "      <td>154ca_228_L_CC</td>\n",
       "      <td>4.0</td>\n",
       "      <td>0.184729</td>\n",
       "    </tr>\n",
       "    <tr>\n",
       "      <th>226</th>\n",
       "      <td>14ca_19_R_MLO</td>\n",
       "      <td>2.0</td>\n",
       "      <td>0.261980</td>\n",
       "    </tr>\n",
       "    <tr>\n",
       "      <th>227</th>\n",
       "      <td>140ca_211_L_MLO</td>\n",
       "      <td>8.0</td>\n",
       "      <td>0.000746</td>\n",
       "    </tr>\n",
       "    <tr>\n",
       "      <th>228</th>\n",
       "      <td>23ca_38_L_CC</td>\n",
       "      <td>4.0</td>\n",
       "      <td>0.221445</td>\n",
       "    </tr>\n",
       "    <tr>\n",
       "      <th>229</th>\n",
       "      <td>174ca_258_R_CC</td>\n",
       "      <td>76.0</td>\n",
       "      <td>0.322332</td>\n",
       "    </tr>\n",
       "  </tbody>\n",
       "</table>\n",
       "<p>230 rows × 3 columns</p>\n",
       "</div>"
      ],
      "text/plain": [
       "         image_index  threshold_otsu       IoU\n",
       "0     123ca_187_L_CC            21.0  0.016281\n",
       "1    151ca_225_L_MLO            33.0  0.266914\n",
       "2    179ca_264_L_MLO             3.0  0.099130\n",
       "3       28ca_45_R_CC            35.0  0.117304\n",
       "4    162ca_241_L_MLO             2.0  0.012871\n",
       "..               ...             ...       ...\n",
       "225   154ca_228_L_CC             4.0  0.184729\n",
       "226    14ca_19_R_MLO             2.0  0.261980\n",
       "227  140ca_211_L_MLO             8.0  0.000746\n",
       "228     23ca_38_L_CC             4.0  0.221445\n",
       "229   174ca_258_R_CC            76.0  0.322332\n",
       "\n",
       "[230 rows x 3 columns]"
      ]
     },
     "execution_count": 5,
     "metadata": {},
     "output_type": "execute_result"
    }
   ],
   "source": [
    "gmic_iou_otsu_"
   ]
  },
  {
   "cell_type": "code",
   "execution_count": 6,
   "metadata": {},
   "outputs": [
    {
     "name": "stdout",
     "output_type": "stream",
     "text": [
      "IoU Gmic Otsu =  0.19776254632471704\n"
     ]
    }
   ],
   "source": [
    "print('IoU Gmic Otsu = ', np.sum(gmic_iou_otsu_['IoU'])/otsu_)"
   ]
  },
  {
   "cell_type": "code",
   "execution_count": 7,
   "metadata": {},
   "outputs": [],
   "source": [
    "gmic_iou_sw_ = pd.DataFrame(columns=['image_index', 'threshold', 'IoU'])\n",
    "gmic_iou_n_ = pd.DataFrame(columns=['image_index', 'threshold_otsu'])\n",
    "sw_ = 0\n",
    "n_ = 0\n",
    "\n",
    "for i in range(0, 370, 1):\n",
    "    segm1 = imageio.imread(('BestSegmentations/' + res[i]))\n",
    "    res1 = str(res[i])\n",
    "    orig = cv2.imread(('original/' + res1.split(\".\")[0] + '.png'))\n",
    "    gmic_sw = cv2.imread(('GrayHeatmapsGmic/' + res1.split(\".\")[0] + '_CAM1.png'), cv2.IMREAD_UNCHANGED)\n",
    "    assert np.shape(segm1) == np.shape(gmic_sw)\n",
    "    iou_score = []\n",
    "    for n in range(0, 255, 1):\n",
    "        th , image = cv2.threshold(gmic_sw, n, 255, cv2.THRESH_BINARY)      \n",
    "        intersection = np.logical_and(image, segm1)\n",
    "        union = np.logical_or(image, segm1)\n",
    "        iou = np.sum(intersection) / np.sum(union)\n",
    "        iou_score.append(iou)\n",
    "    threshold = iou_score.index(np.max(iou_score))\n",
    "    IoU = np.max(iou_score)\n",
    "    th , image_sw = cv2.threshold(gmic_sw, threshold, 255, cv2.THRESH_BINARY) \n",
    "    inter_out = np.sum(np.logical_and(image_sw, segm1))\n",
    "    if inter_out != 0: \n",
    "        labelled, nr_objects = mh.label(image_sw)\n",
    "        new_image = np.zeros(np.shape(image_sw))\n",
    "        for i in range(1, nr_objects + 1, 1):\n",
    "            mask = (labelled == i)\n",
    "            inter = np.sum(np.logical_and(mask, segm1))\n",
    "            if inter != 0:\n",
    "                new_image = np.logical_or(new_image, mask)\n",
    "        new_image = np.uint8(255*new_image)\n",
    "        new_image = imageio.core.util.Array(new_image)\n",
    "        intersection = np.logical_and(new_image, segm1)\n",
    "        union = np.logical_or(new_image, segm1)\n",
    "        iou = np.sum(intersection) / np.sum(union)\n",
    "        gmic_iou_sw_.loc[sw_] = (res1.split(\".\")[0], th, iou)\n",
    "        sw_ += 1\n",
    "        contours, hierarchy = cv2.findContours(segm1, cv2.RETR_TREE, cv2.CHAIN_APPROX_SIMPLE)\n",
    "        contours1, hierarchy1 = cv2.findContours(new_image, cv2.RETR_TREE, cv2.CHAIN_APPROX_SIMPLE)\n",
    "        cv2.drawContours(orig, contours, -1, (255,255,0), 10)\n",
    "        cv2.drawContours(orig, contours1, -1, (0,255,0), 10)\n",
    "        cv2.imwrite(('ImageSweep/Gmic/' + res1.split(\".\")[0] + '_CAM1SW.png'), orig)\n",
    "    else:\n",
    "        gmic_iou_n_.loc[n_] = (res1.split(\".\")[0], otsu_threshold)\n",
    "        n_ += 1"
   ]
  },
  {
   "cell_type": "code",
   "execution_count": 8,
   "metadata": {},
   "outputs": [
    {
     "data": {
      "text/html": [
       "<div>\n",
       "<style scoped>\n",
       "    .dataframe tbody tr th:only-of-type {\n",
       "        vertical-align: middle;\n",
       "    }\n",
       "\n",
       "    .dataframe tbody tr th {\n",
       "        vertical-align: top;\n",
       "    }\n",
       "\n",
       "    .dataframe thead th {\n",
       "        text-align: right;\n",
       "    }\n",
       "</style>\n",
       "<table border=\"1\" class=\"dataframe\">\n",
       "  <thead>\n",
       "    <tr style=\"text-align: right;\">\n",
       "      <th></th>\n",
       "      <th>image_index</th>\n",
       "      <th>threshold</th>\n",
       "      <th>IoU</th>\n",
       "    </tr>\n",
       "  </thead>\n",
       "  <tbody>\n",
       "    <tr>\n",
       "      <th>0</th>\n",
       "      <td>123ca_187_L_CC</td>\n",
       "      <td>1.0</td>\n",
       "      <td>0.237532</td>\n",
       "    </tr>\n",
       "    <tr>\n",
       "      <th>1</th>\n",
       "      <td>173ca_256_R_MLO</td>\n",
       "      <td>3.0</td>\n",
       "      <td>0.387577</td>\n",
       "    </tr>\n",
       "    <tr>\n",
       "      <th>2</th>\n",
       "      <td>168ca_248_L_MLO</td>\n",
       "      <td>2.0</td>\n",
       "      <td>0.540810</td>\n",
       "    </tr>\n",
       "    <tr>\n",
       "      <th>3</th>\n",
       "      <td>151ca_225_L_MLO</td>\n",
       "      <td>5.0</td>\n",
       "      <td>0.371875</td>\n",
       "    </tr>\n",
       "    <tr>\n",
       "      <th>4</th>\n",
       "      <td>179ca_264_L_MLO</td>\n",
       "      <td>1.0</td>\n",
       "      <td>0.174027</td>\n",
       "    </tr>\n",
       "    <tr>\n",
       "      <th>...</th>\n",
       "      <td>...</td>\n",
       "      <td>...</td>\n",
       "      <td>...</td>\n",
       "    </tr>\n",
       "    <tr>\n",
       "      <th>282</th>\n",
       "      <td>154ca_228_L_CC</td>\n",
       "      <td>0.0</td>\n",
       "      <td>0.064440</td>\n",
       "    </tr>\n",
       "    <tr>\n",
       "      <th>283</th>\n",
       "      <td>14ca_19_R_MLO</td>\n",
       "      <td>4.0</td>\n",
       "      <td>0.218042</td>\n",
       "    </tr>\n",
       "    <tr>\n",
       "      <th>284</th>\n",
       "      <td>140ca_211_L_MLO</td>\n",
       "      <td>0.0</td>\n",
       "      <td>0.103380</td>\n",
       "    </tr>\n",
       "    <tr>\n",
       "      <th>285</th>\n",
       "      <td>23ca_38_L_CC</td>\n",
       "      <td>6.0</td>\n",
       "      <td>0.188538</td>\n",
       "    </tr>\n",
       "    <tr>\n",
       "      <th>286</th>\n",
       "      <td>174ca_258_R_CC</td>\n",
       "      <td>10.0</td>\n",
       "      <td>0.492798</td>\n",
       "    </tr>\n",
       "  </tbody>\n",
       "</table>\n",
       "<p>287 rows × 3 columns</p>\n",
       "</div>"
      ],
      "text/plain": [
       "         image_index  threshold       IoU\n",
       "0     123ca_187_L_CC        1.0  0.237532\n",
       "1    173ca_256_R_MLO        3.0  0.387577\n",
       "2    168ca_248_L_MLO        2.0  0.540810\n",
       "3    151ca_225_L_MLO        5.0  0.371875\n",
       "4    179ca_264_L_MLO        1.0  0.174027\n",
       "..               ...        ...       ...\n",
       "282   154ca_228_L_CC        0.0  0.064440\n",
       "283    14ca_19_R_MLO        4.0  0.218042\n",
       "284  140ca_211_L_MLO        0.0  0.103380\n",
       "285     23ca_38_L_CC        6.0  0.188538\n",
       "286   174ca_258_R_CC       10.0  0.492798\n",
       "\n",
       "[287 rows x 3 columns]"
      ]
     },
     "execution_count": 8,
     "metadata": {},
     "output_type": "execute_result"
    }
   ],
   "source": [
    "gmic_iou_sw_"
   ]
  },
  {
   "cell_type": "code",
   "execution_count": 9,
   "metadata": {},
   "outputs": [
    {
     "name": "stdout",
     "output_type": "stream",
     "text": [
      "IoU Gmic Sweep =  0.21099407622162253\n"
     ]
    }
   ],
   "source": [
    "print('IoU Gmic Sweep = ', np.sum(gmic_iou_sw_['IoU'])/sw_)"
   ]
  },
  {
   "cell_type": "code",
   "execution_count": 4,
   "metadata": {},
   "outputs": [],
   "source": [
    "# guardar una imagen para el paper \n",
    "segm1 = imageio.imread(('BestSegmentations/15ca_20_R_CC.bmp'))\n",
    "orig = cv2.imread(('original/15ca_20_R_CC.png'))\n",
    "gmic_sw = cv2.imread(('GrayHeatmapsGmic/15ca_20_R_CC_CAM1.png'), cv2.IMREAD_UNCHANGED)\n",
    "assert np.shape(segm1) == np.shape(gmic_sw)\n",
    "iou_score = []\n",
    "for n in range(0, 255, 1):\n",
    "    th , image = cv2.threshold(gmic_sw, n, 255, cv2.THRESH_BINARY)      \n",
    "    intersection = np.logical_and(image, segm1)\n",
    "    union = np.logical_or(image, segm1)\n",
    "    iou = np.sum(intersection) / np.sum(union)\n",
    "    iou_score.append(iou)\n",
    "threshold = iou_score.index(np.max(iou_score))\n",
    "IoU = np.max(iou_score)\n",
    "th , image_sw = cv2.threshold(gmic_sw, threshold, 255, cv2.THRESH_BINARY) \n",
    "inter_out = np.sum(np.logical_and(image_sw, segm1))\n",
    "if inter_out != 0: \n",
    "    labelled, nr_objects = mh.label(image_sw)\n",
    "    new_image = np.zeros(np.shape(image_sw))\n",
    "    for i in range(1, nr_objects + 1, 1):\n",
    "        mask = (labelled == i)\n",
    "        inter = np.sum(np.logical_and(mask, segm1))\n",
    "        if inter != 0:\n",
    "            new_image = np.logical_or(new_image, mask)\n",
    "    new_image = np.uint8(255*new_image)\n",
    "    new_image = imageio.core.util.Array(new_image)\n",
    "    cv2.imwrite(('ImageSweep/15ca_20_R_CC_CAM1SW.png'), new_image)\n",
    "else:\n",
    "    gmic_iou_n_.loc[n_] = (res1.split(\".\")[0], otsu_threshold)\n",
    "    n_ += 1"
   ]
  },
  {
   "cell_type": "code",
   "execution_count": null,
   "metadata": {},
   "outputs": [],
   "source": []
  }
 ],
 "metadata": {
  "colab": {
   "provenance": []
  },
  "gpuClass": "standard",
  "kernelspec": {
   "display_name": "reporepo",
   "language": "python",
   "name": "reporepo"
  },
  "language_info": {
   "codemirror_mode": {
    "name": "ipython",
    "version": 3
   },
   "file_extension": ".py",
   "mimetype": "text/x-python",
   "name": "python",
   "nbconvert_exporter": "python",
   "pygments_lexer": "ipython3",
   "version": "3.6.13"
  }
 },
 "nbformat": 4,
 "nbformat_minor": 1
}
