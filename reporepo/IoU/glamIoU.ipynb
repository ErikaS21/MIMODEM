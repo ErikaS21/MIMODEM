{
 "cells": [
  {
   "cell_type": "code",
   "execution_count": 2,
   "metadata": {
    "id": "5VAJvx15jtSs"
   },
   "outputs": [],
   "source": [
    "import cv2\n",
    "import matplotlib.pyplot as plt\n",
    "import numpy as np\n",
    "from scipy import misc\n",
    "import imageio\n",
    "import os\n",
    "import pandas as pd\n",
    "import mahotas as mh"
   ]
  },
  {
   "cell_type": "code",
   "execution_count": 3,
   "metadata": {
    "id": "NceD0iW_nMvy"
   },
   "outputs": [],
   "source": [
    "# folder path\n",
    "dir_path = r'BestSegmentations/'\n",
    "# list to store files\n",
    "res = [] # files name\n",
    "# Iterate directory\n",
    "for path in os.listdir(dir_path):\n",
    "    # check if current path is a file\n",
    "    if os.path.isfile(os.path.join(dir_path, path)):\n",
    "        res.append(path)"
   ]
  },
  {
   "cell_type": "code",
   "execution_count": 3,
   "metadata": {
    "id": "hJiPTd9evoHC"
   },
   "outputs": [],
   "source": [
    "glam_iou_otsu = pd.DataFrame(columns=['image_index', 'threshold_otsu', 'IoU'], index=range(370))\n",
    "for i in range(0, 370, 1):\n",
    "  segm1 = imageio.imread(('BestSegmentations/' + res[i]))\n",
    "  res1 = str(res[i])\n",
    "  glam_otsu = cv2.imread(('GrayHeatmapsGlam/' + res1.split(\".\")[0] + '_CAM2.png'), cv2.IMREAD_UNCHANGED)\n",
    "  assert np.shape(segm1) == np.shape(glam_otsu)\n",
    "  otsu_threshold, image_otsu = cv2.threshold(glam_otsu, 0, 255, cv2.THRESH_BINARY + cv2.THRESH_OTSU) \n",
    "  intersection = np.logical_and(image_otsu, segm1)\n",
    "  union = np.logical_or(image_otsu, segm1)\n",
    "  iou = np.sum(intersection) / np.sum(union)\n",
    "  glam_iou_otsu.loc[i] = (res1.split(\".\")[0], otsu_threshold, iou)\n",
    "  # Save image with contours--------------------------------------------------------------------------------------------\n",
    "  #orig = cv2.imread(('original/' + res1.split(\".\")[0] + '.png'),0)\n",
    "  #contours_seg, hierarchy = cv2.findContours(segm1, cv2.RETR_TREE, cv2.CHAIN_APPROX_SIMPLE)\n",
    "  #contours_otsu, hierarchy1 = cv2.findContours(image_otsu, cv2.RETR_TREE, cv2.CHAIN_APPROX_SIMPLE)\n",
    "  #cv2.drawContours(orig, contours_seg, -1, (0,255,0), 6)\n",
    "  #cv2.drawContours(orig, contours_otsu, -1, (255,255,0), 6)\n",
    "  #cv2.imwrite(('ImageOtsu/Glam/' + res1.split(\".\")[0] + '_CAM2OT.png'), orig)"
   ]
  },
  {
   "cell_type": "code",
   "execution_count": 4,
   "metadata": {
    "colab": {
     "base_uri": "https://localhost:8080/",
     "height": 424
    },
    "id": "E_8JwSvPj9FC",
    "outputId": "7853234c-66e7-4b75-96c7-dfeb64f7b8a4"
   },
   "outputs": [
    {
     "data": {
      "text/html": [
       "<div>\n",
       "<style scoped>\n",
       "    .dataframe tbody tr th:only-of-type {\n",
       "        vertical-align: middle;\n",
       "    }\n",
       "\n",
       "    .dataframe tbody tr th {\n",
       "        vertical-align: top;\n",
       "    }\n",
       "\n",
       "    .dataframe thead th {\n",
       "        text-align: right;\n",
       "    }\n",
       "</style>\n",
       "<table border=\"1\" class=\"dataframe\">\n",
       "  <thead>\n",
       "    <tr style=\"text-align: right;\">\n",
       "      <th></th>\n",
       "      <th>image_index</th>\n",
       "      <th>threshold_otsu</th>\n",
       "      <th>IoU</th>\n",
       "    </tr>\n",
       "  </thead>\n",
       "  <tbody>\n",
       "    <tr>\n",
       "      <th>0</th>\n",
       "      <td>123ca_187_L_CC</td>\n",
       "      <td>111</td>\n",
       "      <td>0.0434279</td>\n",
       "    </tr>\n",
       "    <tr>\n",
       "      <th>1</th>\n",
       "      <td>173ca_256_R_MLO</td>\n",
       "      <td>112</td>\n",
       "      <td>0.0493894</td>\n",
       "    </tr>\n",
       "    <tr>\n",
       "      <th>2</th>\n",
       "      <td>168ca_248_L_MLO</td>\n",
       "      <td>0</td>\n",
       "      <td>0</td>\n",
       "    </tr>\n",
       "    <tr>\n",
       "      <th>3</th>\n",
       "      <td>137ca_208_R_CC</td>\n",
       "      <td>105</td>\n",
       "      <td>0</td>\n",
       "    </tr>\n",
       "    <tr>\n",
       "      <th>4</th>\n",
       "      <td>133ca_203_L_MLO</td>\n",
       "      <td>105</td>\n",
       "      <td>0</td>\n",
       "    </tr>\n",
       "    <tr>\n",
       "      <th>...</th>\n",
       "      <td>...</td>\n",
       "      <td>...</td>\n",
       "      <td>...</td>\n",
       "    </tr>\n",
       "    <tr>\n",
       "      <th>365</th>\n",
       "      <td>14ca_19_R_MLO</td>\n",
       "      <td>111</td>\n",
       "      <td>0.137742</td>\n",
       "    </tr>\n",
       "    <tr>\n",
       "      <th>366</th>\n",
       "      <td>140ca_211_L_MLO</td>\n",
       "      <td>116</td>\n",
       "      <td>0.0358601</td>\n",
       "    </tr>\n",
       "    <tr>\n",
       "      <th>367</th>\n",
       "      <td>23ca_38_L_CC</td>\n",
       "      <td>107</td>\n",
       "      <td>0.124066</td>\n",
       "    </tr>\n",
       "    <tr>\n",
       "      <th>368</th>\n",
       "      <td>13ca_18_R_CC</td>\n",
       "      <td>108</td>\n",
       "      <td>0</td>\n",
       "    </tr>\n",
       "    <tr>\n",
       "      <th>369</th>\n",
       "      <td>174ca_258_R_CC</td>\n",
       "      <td>105</td>\n",
       "      <td>0.14051</td>\n",
       "    </tr>\n",
       "  </tbody>\n",
       "</table>\n",
       "<p>370 rows × 3 columns</p>\n",
       "</div>"
      ],
      "text/plain": [
       "         image_index threshold_otsu        IoU\n",
       "0     123ca_187_L_CC            111  0.0434279\n",
       "1    173ca_256_R_MLO            112  0.0493894\n",
       "2    168ca_248_L_MLO              0          0\n",
       "3     137ca_208_R_CC            105          0\n",
       "4    133ca_203_L_MLO            105          0\n",
       "..               ...            ...        ...\n",
       "365    14ca_19_R_MLO            111   0.137742\n",
       "366  140ca_211_L_MLO            116  0.0358601\n",
       "367     23ca_38_L_CC            107   0.124066\n",
       "368     13ca_18_R_CC            108          0\n",
       "369   174ca_258_R_CC            105    0.14051\n",
       "\n",
       "[370 rows x 3 columns]"
      ]
     },
     "execution_count": 4,
     "metadata": {},
     "output_type": "execute_result"
    }
   ],
   "source": [
    "glam_iou_otsu"
   ]
  },
  {
   "cell_type": "code",
   "execution_count": 5,
   "metadata": {
    "colab": {
     "base_uri": "https://localhost:8080/"
    },
    "id": "RAPqqGSPl3pk",
    "outputId": "9f33622c-66ab-41b9-d53c-6092cad44f5f"
   },
   "outputs": [
    {
     "data": {
      "text/plain": [
       "0.08178740807126911"
      ]
     },
     "execution_count": 5,
     "metadata": {},
     "output_type": "execute_result"
    }
   ],
   "source": [
    "np.sum(glam_iou_otsu['IoU'])/370\n",
    "# Antes 0.07516612911411437"
   ]
  },
  {
   "cell_type": "code",
   "execution_count": 7,
   "metadata": {
    "colab": {
     "base_uri": "https://localhost:8080/",
     "height": 424
    },
    "id": "PRuRv-HswDF9",
    "outputId": "618b54c9-cef0-4903-ecb1-26a60917be4b"
   },
   "outputs": [],
   "source": [
    "glam_iou = pd.DataFrame(columns=['image_index', 'threshold', 'IoU'])\n",
    "for i in range(0, 370, 1):\n",
    "  segm1 = imageio.imread(('BestSegmentations/' + res[i]))\n",
    "  res1 = str(res[i])\n",
    "  glam = cv2.imread(('GrayHeatmapsGlam/' + res1.split(\".\")[0] + '_CAM2.png'), cv2.IMREAD_UNCHANGED)\n",
    "  assert np.shape(segm1) == np.shape(glam)\n",
    "  iou_score = []\n",
    "  for n in range(0, 255, 1):\n",
    "    th , image = cv2.threshold(glam, n, 255, cv2.THRESH_BINARY) \n",
    "    intersection = np.logical_and(image, segm1)\n",
    "    union = np.logical_or(image, segm1)\n",
    "    iou = np.sum(intersection) / np.sum(union)\n",
    "    iou_score.append(iou)\n",
    "  threshold = iou_score.index(np.max(iou_score))\n",
    "  IoU = np.max(iou_score)\n",
    "  glam_iou.loc[i] = (res1.split(\".\")[0], threshold, IoU)\n",
    "  # Save image with contours--------------------------------------------------------------------------------------------\n",
    "  #orig = cv2.imread(('original/' + res1.split(\".\")[0] + '.png'),0)\n",
    "  #th , image = cv2.threshold(glam, threshold, 255, cv2.THRESH_BINARY)\n",
    "  #contours_seg, hierarchy = cv2.findContours(segm1, cv2.RETR_TREE, cv2.CHAIN_APPROX_SIMPLE)\n",
    "  #contours_sweep, hierarchy1 = cv2.findContours(image, cv2.RETR_TREE, cv2.CHAIN_APPROX_SIMPLE)\n",
    "  #cv2.drawContours(orig, contours_seg, -1, (0,255,0), 6)\n",
    "  #cv2.drawContours(orig, contours_sweep, -1, (255,255,0), 6)\n",
    "  #cv2.imwrite(('ImageSweep/Glam/' + res1.split(\".\")[0] + '_CAM2SW.png'), orig)\n"
   ]
  },
  {
   "cell_type": "code",
   "execution_count": null,
   "metadata": {},
   "outputs": [],
   "source": [
    "glam_iou "
   ]
  },
  {
   "cell_type": "code",
   "execution_count": null,
   "metadata": {
    "colab": {
     "base_uri": "https://localhost:8080/"
    },
    "id": "LYffpSUtmXHx",
    "outputId": "b879c16a-4b67-467c-c319-137cdad1faf1"
   },
   "outputs": [
    {
     "data": {
      "text/plain": [
       "0.12856702572279918"
      ]
     },
     "execution_count": 18,
     "metadata": {},
     "output_type": "execute_result"
    }
   ],
   "source": [
    "np.sum(glam_iou['IoU'])/370\n",
    "# antes 0.12014099804687912"
   ]
  },
  {
   "cell_type": "code",
   "execution_count": 4,
   "metadata": {},
   "outputs": [],
   "source": [
    "glam_iou_otsu_ = pd.DataFrame(columns=['image_index', 'threshold_otsu', 'IoU'])\n",
    "glam_iou_no_ = pd.DataFrame(columns=['image_index', 'threshold_otsu'])\n",
    "otsu_ = 0\n",
    "no_ = 0\n",
    "for i in range(0, 370, 1):\n",
    "    segm1 = imageio.imread(('BestSegmentations/' + res[i]))\n",
    "    res1 = str(res[i])\n",
    "    orig = cv2.imread(('original/' + res1.split(\".\")[0] + '.png'))\n",
    "    glam_otsu = cv2.imread(('GrayHeatmapsGlam/' + res1.split(\".\")[0] + '_CAM2.png'), cv2.IMREAD_UNCHANGED)\n",
    "    assert np.shape(segm1) == np.shape(glam_otsu)\n",
    "    otsu_threshold, image_otsu = cv2.threshold(glam_otsu, 0, 255, cv2.THRESH_BINARY + cv2.THRESH_OTSU)\n",
    "    inter_out = np.sum(np.logical_and(image_otsu, segm1))\n",
    "    if inter_out != 0: \n",
    "        labelled, nr_objects = mh.label(image_otsu)\n",
    "        new_image = np.zeros(np.shape(image_otsu))\n",
    "        for i in range(1, nr_objects + 1, 1):\n",
    "            mask = (labelled == i)\n",
    "            inter = np.sum(np.logical_and(mask, segm1))\n",
    "            if inter != 0:\n",
    "                new_image = np.logical_or(new_image, mask)\n",
    "        new_image = np.uint8(255*new_image)\n",
    "        new_image = imageio.core.util.Array(new_image)\n",
    "        intersection = np.logical_and(new_image, segm1)\n",
    "        union = np.logical_or(new_image, segm1)\n",
    "        iou = np.sum(intersection) / np.sum(union)\n",
    "        glam_iou_otsu_.loc[otsu_] = (res1.split(\".\")[0], otsu_threshold, iou)\n",
    "        otsu_ += 1\n",
    "        contours, hierarchy = cv2.findContours(segm1, cv2.RETR_TREE, cv2.CHAIN_APPROX_SIMPLE)\n",
    "        contours1, hierarchy1 = cv2.findContours(new_image, cv2.RETR_TREE, cv2.CHAIN_APPROX_SIMPLE)\n",
    "        cv2.drawContours(orig, contours, -1, (255,255,0), 10)\n",
    "        cv2.drawContours(orig, contours1, -1, (0,255,0), 10)\n",
    "        cv2.imwrite(('ImageOtsu/Glam/' + res1.split(\".\")[0] + '_CAM2OT.png'), orig)\n",
    "    else:\n",
    "        glam_iou_no_.loc[no_] = (res1.split(\".\")[0], otsu_threshold)\n",
    "        no_ += 1"
   ]
  },
  {
   "cell_type": "code",
   "execution_count": 5,
   "metadata": {},
   "outputs": [
    {
     "data": {
      "text/html": [
       "<div>\n",
       "<style scoped>\n",
       "    .dataframe tbody tr th:only-of-type {\n",
       "        vertical-align: middle;\n",
       "    }\n",
       "\n",
       "    .dataframe tbody tr th {\n",
       "        vertical-align: top;\n",
       "    }\n",
       "\n",
       "    .dataframe thead th {\n",
       "        text-align: right;\n",
       "    }\n",
       "</style>\n",
       "<table border=\"1\" class=\"dataframe\">\n",
       "  <thead>\n",
       "    <tr style=\"text-align: right;\">\n",
       "      <th></th>\n",
       "      <th>image_index</th>\n",
       "      <th>threshold_otsu</th>\n",
       "      <th>IoU</th>\n",
       "    </tr>\n",
       "  </thead>\n",
       "  <tbody>\n",
       "    <tr>\n",
       "      <th>0</th>\n",
       "      <td>123ca_187_L_CC</td>\n",
       "      <td>111.0</td>\n",
       "      <td>0.043444</td>\n",
       "    </tr>\n",
       "    <tr>\n",
       "      <th>1</th>\n",
       "      <td>173ca_256_R_MLO</td>\n",
       "      <td>112.0</td>\n",
       "      <td>0.055074</td>\n",
       "    </tr>\n",
       "    <tr>\n",
       "      <th>2</th>\n",
       "      <td>151ca_225_L_MLO</td>\n",
       "      <td>105.0</td>\n",
       "      <td>0.152928</td>\n",
       "    </tr>\n",
       "    <tr>\n",
       "      <th>3</th>\n",
       "      <td>28ca_45_R_CC</td>\n",
       "      <td>111.0</td>\n",
       "      <td>0.587246</td>\n",
       "    </tr>\n",
       "    <tr>\n",
       "      <th>4</th>\n",
       "      <td>65ca_99_L_MLO</td>\n",
       "      <td>107.0</td>\n",
       "      <td>0.448675</td>\n",
       "    </tr>\n",
       "    <tr>\n",
       "      <th>...</th>\n",
       "      <td>...</td>\n",
       "      <td>...</td>\n",
       "      <td>...</td>\n",
       "    </tr>\n",
       "    <tr>\n",
       "      <th>141</th>\n",
       "      <td>154ca_228_L_CC</td>\n",
       "      <td>104.0</td>\n",
       "      <td>0.069973</td>\n",
       "    </tr>\n",
       "    <tr>\n",
       "      <th>142</th>\n",
       "      <td>14ca_19_R_MLO</td>\n",
       "      <td>111.0</td>\n",
       "      <td>0.137742</td>\n",
       "    </tr>\n",
       "    <tr>\n",
       "      <th>143</th>\n",
       "      <td>140ca_211_L_MLO</td>\n",
       "      <td>116.0</td>\n",
       "      <td>0.035867</td>\n",
       "    </tr>\n",
       "    <tr>\n",
       "      <th>144</th>\n",
       "      <td>23ca_38_L_CC</td>\n",
       "      <td>107.0</td>\n",
       "      <td>0.134805</td>\n",
       "    </tr>\n",
       "    <tr>\n",
       "      <th>145</th>\n",
       "      <td>174ca_258_R_CC</td>\n",
       "      <td>105.0</td>\n",
       "      <td>0.140510</td>\n",
       "    </tr>\n",
       "  </tbody>\n",
       "</table>\n",
       "<p>146 rows × 3 columns</p>\n",
       "</div>"
      ],
      "text/plain": [
       "         image_index  threshold_otsu       IoU\n",
       "0     123ca_187_L_CC           111.0  0.043444\n",
       "1    173ca_256_R_MLO           112.0  0.055074\n",
       "2    151ca_225_L_MLO           105.0  0.152928\n",
       "3       28ca_45_R_CC           111.0  0.587246\n",
       "4      65ca_99_L_MLO           107.0  0.448675\n",
       "..               ...             ...       ...\n",
       "141   154ca_228_L_CC           104.0  0.069973\n",
       "142    14ca_19_R_MLO           111.0  0.137742\n",
       "143  140ca_211_L_MLO           116.0  0.035867\n",
       "144     23ca_38_L_CC           107.0  0.134805\n",
       "145   174ca_258_R_CC           105.0  0.140510\n",
       "\n",
       "[146 rows x 3 columns]"
      ]
     },
     "execution_count": 5,
     "metadata": {},
     "output_type": "execute_result"
    }
   ],
   "source": [
    "glam_iou_otsu_"
   ]
  },
  {
   "cell_type": "code",
   "execution_count": 6,
   "metadata": {},
   "outputs": [
    {
     "name": "stdout",
     "output_type": "stream",
     "text": [
      "IoU Glam Otsu =  0.228353808203027\n"
     ]
    }
   ],
   "source": [
    "print('IoU Glam Otsu = ', np.sum(glam_iou_otsu_['IoU'])/otsu_)"
   ]
  },
  {
   "cell_type": "code",
   "execution_count": 8,
   "metadata": {},
   "outputs": [],
   "source": [
    "glam_iou_sw_ = pd.DataFrame(columns=['image_index', 'threshold', 'IoU'])\n",
    "glam_iou_n_ = pd.DataFrame(columns=['image_index', 'threshold_otsu'])\n",
    "sw_ = 0\n",
    "n_ = 0\n",
    "\n",
    "for i in range(0, 370, 1):\n",
    "    segm1 = imageio.imread(('BestSegmentations/' + res[i]))\n",
    "    res1 = str(res[i])\n",
    "    orig = cv2.imread(('original/' + res1.split(\".\")[0] + '.png'))\n",
    "    glam_sw = cv2.imread(('GrayHeatmapsGlam/' + res1.split(\".\")[0] + '_CAM2.png'), cv2.IMREAD_UNCHANGED)\n",
    "    assert np.shape(segm1) == np.shape(glam_sw)\n",
    "    iou_score = []\n",
    "    for n in range(0, 255, 1):\n",
    "        th , image = cv2.threshold(glam_sw, n, 255, cv2.THRESH_BINARY)      \n",
    "        intersection = np.logical_and(image, segm1)\n",
    "        union = np.logical_or(image, segm1)\n",
    "        iou = np.sum(intersection) / np.sum(union)\n",
    "        iou_score.append(iou)\n",
    "    threshold = iou_score.index(np.max(iou_score))\n",
    "    IoU = np.max(iou_score)\n",
    "    th , image_sw = cv2.threshold(glam_sw, threshold, 255, cv2.THRESH_BINARY) \n",
    "    inter_out = np.sum(np.logical_and(image_sw, segm1))\n",
    "    if inter_out != 0: \n",
    "        labelled, nr_objects = mh.label(image_sw)\n",
    "        new_image = np.zeros(np.shape(image_sw))\n",
    "        for i in range(1, nr_objects + 1, 1):\n",
    "            mask = (labelled == i)\n",
    "            inter = np.sum(np.logical_and(mask, segm1))\n",
    "            if inter != 0:\n",
    "                new_image = np.logical_or(new_image, mask)\n",
    "        new_image = np.uint8(255*new_image)\n",
    "        new_image = imageio.core.util.Array(new_image)\n",
    "        intersection = np.logical_and(new_image, segm1)\n",
    "        union = np.logical_or(new_image, segm1)\n",
    "        iou = np.sum(intersection) / np.sum(union)\n",
    "        glam_iou_sw_.loc[sw_] = (res1.split(\".\")[0], th, iou)\n",
    "        sw_ += 1\n",
    "        contours, hierarchy = cv2.findContours(segm1, cv2.RETR_TREE, cv2.CHAIN_APPROX_SIMPLE)\n",
    "        contours1, hierarchy1 = cv2.findContours(new_image, cv2.RETR_TREE, cv2.CHAIN_APPROX_SIMPLE)\n",
    "        cv2.drawContours(orig, contours, -1, (255,255,0), 10)\n",
    "        cv2.drawContours(orig, contours1, -1, (0,255,0), 10)\n",
    "        cv2.imwrite(('ImageSweep/Glam/' + res1.split(\".\")[0] + '_CAM2SW.png'), orig)\n",
    "    else:\n",
    "        glam_iou_n_.loc[n_] = (res1.split(\".\")[0], otsu_threshold)\n",
    "        n_ += 1"
   ]
  },
  {
   "cell_type": "code",
   "execution_count": 9,
   "metadata": {},
   "outputs": [
    {
     "data": {
      "text/html": [
       "<div>\n",
       "<style scoped>\n",
       "    .dataframe tbody tr th:only-of-type {\n",
       "        vertical-align: middle;\n",
       "    }\n",
       "\n",
       "    .dataframe tbody tr th {\n",
       "        vertical-align: top;\n",
       "    }\n",
       "\n",
       "    .dataframe thead th {\n",
       "        text-align: right;\n",
       "    }\n",
       "</style>\n",
       "<table border=\"1\" class=\"dataframe\">\n",
       "  <thead>\n",
       "    <tr style=\"text-align: right;\">\n",
       "      <th></th>\n",
       "      <th>image_index</th>\n",
       "      <th>threshold</th>\n",
       "      <th>IoU</th>\n",
       "    </tr>\n",
       "  </thead>\n",
       "  <tbody>\n",
       "    <tr>\n",
       "      <th>0</th>\n",
       "      <td>123ca_187_L_CC</td>\n",
       "      <td>0.0</td>\n",
       "      <td>0.197025</td>\n",
       "    </tr>\n",
       "    <tr>\n",
       "      <th>1</th>\n",
       "      <td>173ca_256_R_MLO</td>\n",
       "      <td>12.0</td>\n",
       "      <td>0.092306</td>\n",
       "    </tr>\n",
       "    <tr>\n",
       "      <th>2</th>\n",
       "      <td>151ca_225_L_MLO</td>\n",
       "      <td>3.0</td>\n",
       "      <td>0.378528</td>\n",
       "    </tr>\n",
       "    <tr>\n",
       "      <th>3</th>\n",
       "      <td>28ca_45_R_CC</td>\n",
       "      <td>180.0</td>\n",
       "      <td>0.615733</td>\n",
       "    </tr>\n",
       "    <tr>\n",
       "      <th>4</th>\n",
       "      <td>162ca_241_L_MLO</td>\n",
       "      <td>0.0</td>\n",
       "      <td>0.028109</td>\n",
       "    </tr>\n",
       "    <tr>\n",
       "      <th>...</th>\n",
       "      <td>...</td>\n",
       "      <td>...</td>\n",
       "      <td>...</td>\n",
       "    </tr>\n",
       "    <tr>\n",
       "      <th>143</th>\n",
       "      <td>154ca_228_L_CC</td>\n",
       "      <td>0.0</td>\n",
       "      <td>0.387507</td>\n",
       "    </tr>\n",
       "    <tr>\n",
       "      <th>144</th>\n",
       "      <td>14ca_19_R_MLO</td>\n",
       "      <td>0.0</td>\n",
       "      <td>0.426144</td>\n",
       "    </tr>\n",
       "    <tr>\n",
       "      <th>145</th>\n",
       "      <td>140ca_211_L_MLO</td>\n",
       "      <td>0.0</td>\n",
       "      <td>0.188573</td>\n",
       "    </tr>\n",
       "    <tr>\n",
       "      <th>146</th>\n",
       "      <td>23ca_38_L_CC</td>\n",
       "      <td>0.0</td>\n",
       "      <td>0.253322</td>\n",
       "    </tr>\n",
       "    <tr>\n",
       "      <th>147</th>\n",
       "      <td>174ca_258_R_CC</td>\n",
       "      <td>0.0</td>\n",
       "      <td>0.439485</td>\n",
       "    </tr>\n",
       "  </tbody>\n",
       "</table>\n",
       "<p>148 rows × 3 columns</p>\n",
       "</div>"
      ],
      "text/plain": [
       "         image_index  threshold       IoU\n",
       "0     123ca_187_L_CC        0.0  0.197025\n",
       "1    173ca_256_R_MLO       12.0  0.092306\n",
       "2    151ca_225_L_MLO        3.0  0.378528\n",
       "3       28ca_45_R_CC      180.0  0.615733\n",
       "4    162ca_241_L_MLO        0.0  0.028109\n",
       "..               ...        ...       ...\n",
       "143   154ca_228_L_CC        0.0  0.387507\n",
       "144    14ca_19_R_MLO        0.0  0.426144\n",
       "145  140ca_211_L_MLO        0.0  0.188573\n",
       "146     23ca_38_L_CC        0.0  0.253322\n",
       "147   174ca_258_R_CC        0.0  0.439485\n",
       "\n",
       "[148 rows x 3 columns]"
      ]
     },
     "execution_count": 9,
     "metadata": {},
     "output_type": "execute_result"
    }
   ],
   "source": [
    "glam_iou_sw_"
   ]
  },
  {
   "cell_type": "code",
   "execution_count": 10,
   "metadata": {},
   "outputs": [
    {
     "name": "stdout",
     "output_type": "stream",
     "text": [
      "IoU Glam Sweep =  0.35887057294718105\n"
     ]
    }
   ],
   "source": [
    "print('IoU Glam Sweep = ', np.sum(glam_iou_sw_['IoU'])/sw_)"
   ]
  },
  {
   "cell_type": "code",
   "execution_count": null,
   "metadata": {},
   "outputs": [],
   "source": []
  }
 ],
 "metadata": {
  "colab": {
   "provenance": []
  },
  "gpuClass": "standard",
  "kernelspec": {
   "display_name": "Python 3",
   "language": "python",
   "name": "python3"
  },
  "language_info": {
   "codemirror_mode": {
    "name": "ipython",
    "version": 3
   },
   "file_extension": ".py",
   "mimetype": "text/x-python",
   "name": "python",
   "nbconvert_exporter": "python",
   "pygments_lexer": "ipython3",
   "version": "3.6.13"
  }
 },
 "nbformat": 4,
 "nbformat_minor": 1
}
