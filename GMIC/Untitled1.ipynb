{
 "cells": [
  {
   "cell_type": "code",
   "execution_count": 383,
   "id": "fe36ea37",
   "metadata": {},
   "outputs": [],
   "source": [
    "import matplotlib.pyplot as plt\n",
    "from matplotlib.colors import LinearSegmentedColormap\n",
    "%matplotlib inline\n",
    "\n",
    "import numpy as np\n",
    "import sys, pickle, os, torch, cv2, imageio\n",
    "# replace this path with path to GMIC\n",
    "#sys.path.append(\"/home/mimodem/Desktop/GMIC\")\n",
    "\n",
    "from src.data_loading import loading\n",
    "from src.modeling import gmic as gmic"
   ]
  },
  {
   "cell_type": "code",
   "execution_count": 380,
   "id": "0aa9ffb2",
   "metadata": {},
   "outputs": [],
   "source": [
    "img = cv2.imread(\"sample_output/Gmic_1/cropped_images/15ca_20_R_MLO.png\")\n",
    "seg = cv2.imread(\"sample_output/15ca_20_R_MLO.bmp\")\n",
    "seg2 = cv2.imread('sample_output/15ca_20_R_CC_CAM1SW.png')\n",
    "#seg3 = cv2.imread('sample_output/15ca_20_R_CC_glam_otsu.png')\n",
    "#seg3 = cv2.imread('sample_output/15ca_20_R_CC_gmic_otsu.png')\n",
    "#seg3 = cv2.imread('sample_output/15ca_20_R_CC_dmv_otsu.png')\n",
    "seg3 = cv2.imread('sample_output/15ca_20_R_CC_end2_otsu.png')"
   ]
  },
  {
   "cell_type": "code",
   "execution_count": 381,
   "id": "bb0fff5c",
   "metadata": {},
   "outputs": [],
   "source": [
    "seg2[:,:,1] = seg2[:,:,1]*0\n",
    "seg2[:,:,0] = seg2[:,:,0]*0\n",
    "seg[:,:,0] = seg[:,:,0]*0.0/255.0\n",
    "seg[:,:,2] = seg[:,:,2]*0.0/255.0\n",
    "#seg[:,:,1] = seg[:,:,1]*127.0/255.0\n",
    "seg3[:,:,1] = seg3[:,:,1]*0.0/255.0#128.0\n",
    "#seg3[:,:,2] = seg3[:,:,2]*0.0/255.0\n",
    "#seg3[:,:,0] = seg3[:,:,0]*255.0/255.0"
   ]
  },
  {
   "cell_type": "code",
   "execution_count": 373,
   "id": "685d1c33",
   "metadata": {},
   "outputs": [
    {
     "data": {
      "text/plain": [
       "True"
      ]
     },
     "execution_count": 373,
     "metadata": {},
     "output_type": "execute_result"
    }
   ],
   "source": [
    "superimposed_img = seg* 0.4 + seg2* 0.4 + img * 0.6#OriginalCropped\n",
    "superimposed_img = cv2.flip(superimposed_img, 1)\n",
    "cv2.imwrite('sample_output/ColorHeatmaps/popo3_CAM1_EXAMPLElll.jpg', superimposed_img)"
   ]
  },
  {
   "cell_type": "code",
   "execution_count": 382,
   "id": "c8e2c312",
   "metadata": {},
   "outputs": [
    {
     "data": {
      "text/plain": [
       "True"
      ]
     },
     "execution_count": 382,
     "metadata": {},
     "output_type": "execute_result"
    }
   ],
   "source": [
    "#Otsu segmentations\n",
    "superimposed_img =  img * 0.6+ seg**0.9 #+ seg3*0.4OriginalCropped\n",
    "superimposed_img = cv2.flip(superimposed_img, 1)\n",
    "cv2.imwrite('sample_output/ColorHeatmaps/otsu_end2end_mlo.png', superimposed_img)"
   ]
  },
  {
   "cell_type": "code",
   "execution_count": 376,
   "id": "102aba14",
   "metadata": {},
   "outputs": [
    {
     "data": {
      "text/plain": [
       "True"
      ]
     },
     "execution_count": 376,
     "metadata": {},
     "output_type": "execute_result"
    }
   ],
   "source": [
    "img = cv2.flip(img, 1)\n",
    "cv2.imwrite('sample_output/ColorHeatmaps/breast.png', img*0.6)"
   ]
  },
  {
   "cell_type": "code",
   "execution_count": 374,
   "id": "464885b7",
   "metadata": {},
   "outputs": [
    {
     "name": "stderr",
     "output_type": "stream",
     "text": [
      "Clipping input data to the valid range for imshow with RGB data ([0..1] for floats or [0..255] for integers).\n"
     ]
    },
    {
     "data": {
      "image/png": "[encoded data removed]",
      "text/plain": [
       "<Figure size 432x288 with 1 Axes>"
      ]
     },
     "metadata": {
      "needs_background": "light"
     },
     "output_type": "display_data"
    }
   ],
   "source": [
    "plt.imshow(img )###################\n",
    "plt.imshow(seg, alpha=0.4)###################\n",
    "plt.imshow(seg2, alpha=0.4)###################\n",
    "plt.axis(\"off\")\n",
    "plt.show()"
   ]
  },
  {
   "cell_type": "code",
   "execution_count": 24,
   "id": "2625f0ed",
   "metadata": {},
   "outputs": [
    {
     "data": {
      "text/plain": [
       "(4343, 1970, 3)"
      ]
     },
     "execution_count": 24,
     "metadata": {},
     "output_type": "execute_result"
    }
   ],
   "source": [
    "np.shape(img)"
   ]
  },
  {
   "cell_type": "code",
   "execution_count": 48,
   "id": "f6a63441",
   "metadata": {},
   "outputs": [
    {
     "data": {
      "text/plain": [
       "(4343, 1970, 3)"
      ]
     },
     "execution_count": 48,
     "metadata": {},
     "output_type": "execute_result"
    }
   ],
   "source": [
    "np.shape(seg)"
   ]
  },
  {
   "cell_type": "code",
   "execution_count": null,
   "id": "456b38c5",
   "metadata": {},
   "outputs": [],
   "source": [
    "# folder path\n",
    "dir_path = '/content/drive/MyDrive/Heatmaps/BestSegmentations/'\n",
    "# list to store files\n",
    "res = [] # files name\n",
    "# Iterate directory\n",
    "for path in os.listdir(dir_path):\n",
    "    # check if current path is a file\n",
    "    if os.path.isfile(os.path.join(dir_path, path)):\n",
    "        res.append(path)"
   ]
  }
 ],
 "metadata": {
  "kernelspec": {
   "display_name": "gmic",
   "language": "python",
   "name": "gmic"
  },
  "language_info": {
   "codemirror_mode": {
    "name": "ipython",
    "version": 3
   },
   "file_extension": ".py",
   "mimetype": "text/x-python",
   "name": "python",
   "nbconvert_exporter": "python",
   "pygments_lexer": "ipython3",
   "version": "3.6.13"
  }
 },
 "nbformat": 4,
 "nbformat_minor": 5
}
